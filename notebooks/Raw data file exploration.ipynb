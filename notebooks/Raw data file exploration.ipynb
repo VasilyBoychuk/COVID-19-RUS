{
 "cells": [
  {
   "cell_type": "markdown",
   "metadata": {},
   "source": [
    "### Check the downloaded file and reformat the data"
   ]
  },
  {
   "cell_type": "code",
   "execution_count": 1,
   "metadata": {},
   "outputs": [],
   "source": [
    "from tqdm.auto import tqdm\n",
    "import pandas as pd"
   ]
  },
  {
   "cell_type": "code",
   "execution_count": 2,
   "metadata": {},
   "outputs": [],
   "source": [
    "covid_df = pd.read_csv('../data/2020-05-31_18-12.csv', sep=';')"
   ]
  },
  {
   "cell_type": "code",
   "execution_count": 3,
   "metadata": {},
   "outputs": [
    {
     "data": {
      "text/html": [
       "<div>\n",
       "<style scoped>\n",
       "    .dataframe tbody tr th:only-of-type {\n",
       "        vertical-align: middle;\n",
       "    }\n",
       "\n",
       "    .dataframe tbody tr th {\n",
       "        vertical-align: top;\n",
       "    }\n",
       "\n",
       "    .dataframe thead th {\n",
       "        text-align: right;\n",
       "    }\n",
       "</style>\n",
       "<table border=\"1\" class=\"dataframe\">\n",
       "  <thead>\n",
       "    <tr style=\"text-align: right;\">\n",
       "      <th></th>\n",
       "      <th>Дата</th>\n",
       "      <th>Регион</th>\n",
       "      <th>Заражений</th>\n",
       "      <th>Выздоровлений</th>\n",
       "      <th>Смертей</th>\n",
       "      <th>Смертей за день</th>\n",
       "      <th>Заражений за день</th>\n",
       "      <th>Выздоровлений за день</th>\n",
       "    </tr>\n",
       "  </thead>\n",
       "  <tbody>\n",
       "    <tr>\n",
       "      <th>0</th>\n",
       "      <td>02.03.2020</td>\n",
       "      <td>Московская обл.</td>\n",
       "      <td>1</td>\n",
       "      <td>0</td>\n",
       "      <td>0</td>\n",
       "      <td>0</td>\n",
       "      <td>1</td>\n",
       "      <td>0</td>\n",
       "    </tr>\n",
       "    <tr>\n",
       "      <th>1</th>\n",
       "      <td>03.03.2020</td>\n",
       "      <td>Московская обл.</td>\n",
       "      <td>1</td>\n",
       "      <td>0</td>\n",
       "      <td>0</td>\n",
       "      <td>0</td>\n",
       "      <td>0</td>\n",
       "      <td>0</td>\n",
       "    </tr>\n",
       "    <tr>\n",
       "      <th>2</th>\n",
       "      <td>04.03.2020</td>\n",
       "      <td>Московская обл.</td>\n",
       "      <td>1</td>\n",
       "      <td>0</td>\n",
       "      <td>0</td>\n",
       "      <td>0</td>\n",
       "      <td>0</td>\n",
       "      <td>0</td>\n",
       "    </tr>\n",
       "    <tr>\n",
       "      <th>3</th>\n",
       "      <td>05.03.2020</td>\n",
       "      <td>Московская обл.</td>\n",
       "      <td>1</td>\n",
       "      <td>0</td>\n",
       "      <td>0</td>\n",
       "      <td>0</td>\n",
       "      <td>0</td>\n",
       "      <td>0</td>\n",
       "    </tr>\n",
       "    <tr>\n",
       "      <th>4</th>\n",
       "      <td>06.03.2020</td>\n",
       "      <td>Москва</td>\n",
       "      <td>5</td>\n",
       "      <td>0</td>\n",
       "      <td>0</td>\n",
       "      <td>0</td>\n",
       "      <td>5</td>\n",
       "      <td>0</td>\n",
       "    </tr>\n",
       "  </tbody>\n",
       "</table>\n",
       "</div>"
      ],
      "text/plain": [
       "         Дата           Регион  Заражений  Выздоровлений  Смертей  \\\n",
       "0  02.03.2020  Московская обл.          1              0        0   \n",
       "1  03.03.2020  Московская обл.          1              0        0   \n",
       "2  04.03.2020  Московская обл.          1              0        0   \n",
       "3  05.03.2020  Московская обл.          1              0        0   \n",
       "4  06.03.2020           Москва          5              0        0   \n",
       "\n",
       "   Смертей за день  Заражений за день  Выздоровлений за день  \n",
       "0                0                  1                      0  \n",
       "1                0                  0                      0  \n",
       "2                0                  0                      0  \n",
       "3                0                  0                      0  \n",
       "4                0                  5                      0  "
      ]
     },
     "execution_count": 3,
     "metadata": {},
     "output_type": "execute_result"
    }
   ],
   "source": [
    "covid_df.head()"
   ]
  },
  {
   "cell_type": "markdown",
   "metadata": {},
   "source": [
    "### Check the list of Russian regions"
   ]
  },
  {
   "cell_type": "code",
   "execution_count": 4,
   "metadata": {},
   "outputs": [
    {
     "data": {
      "text/plain": [
       "array(['Московская обл.', 'Москва', 'Нижегородская обл.', 'Липецкая обл.',\n",
       "       'Санкт-Петербург', 'Белгородская обл.', 'Калининградская обл.',\n",
       "       'Адыгея', 'Алтайский край', 'Амурская обл.', 'Архангельская обл.',\n",
       "       'Астраханская обл.', 'Башкортостан', 'Брянская обл.', 'Бурятия',\n",
       "       'Владимирская обл.', 'Волгоградская обл.', 'Вологодская обл.',\n",
       "       'Воронежская обл.', 'Дагестан', 'Еврейская АО',\n",
       "       'Забайкальский край', 'Ивановская обл.', 'Ингушетия',\n",
       "       'Иркутская обл.', 'Кабардино-Балкария', 'Калмыкия',\n",
       "       'Калужская обл.', 'Камчатский край', 'Карачаево-Черкессия',\n",
       "       'Карелия', 'Кемеровская обл.', 'Кировская обл.', 'Коми',\n",
       "       'Костромская обл.', 'Краснодарский край', 'Красноярский край',\n",
       "       'Крым', 'Курганская обл.', 'Курская обл.', 'Ленинградская обл.',\n",
       "       'Магаданская обл.', 'Марий Эл', 'Мордовия', 'Мурманская обл.',\n",
       "       'Новгородская обл.', 'Новосибирская обл.', 'Омская обл.',\n",
       "       'Оренбургская обл.', 'Орловская обл.', 'Пензенская обл.',\n",
       "       'Пермский край', 'Приморский край', 'Псковская обл.',\n",
       "       'Ростовская обл.', 'Рязанская обл.', 'Самарская обл.',\n",
       "       'Саратовская обл.', 'Саха (Якутия)', 'Сахалинская обл.',\n",
       "       'Свердловская обл.', 'Севастополь', 'Северная Осетия',\n",
       "       'Смоленская обл.', 'Ставропольский край', 'Тамбовская обл.',\n",
       "       'Татарстан', 'Тверская обл.', 'Томская обл.', 'Тульская обл.',\n",
       "       'Тыва', 'Тюменская обл.', 'Удмуртия', 'Ульяновская обл.',\n",
       "       'Хабаровский край', 'Хакасия', 'ХМАО – Югра', 'Челябинская обл.',\n",
       "       'Чечня', 'Чувашия', 'Ямало-Ненецкий АО', 'Ярославская обл.',\n",
       "       'Ненецкий АО', 'Чукотский АО', 'Алтай'], dtype=object)"
      ]
     },
     "execution_count": 4,
     "metadata": {},
     "output_type": "execute_result"
    }
   ],
   "source": [
    "covid_df['Регион'].unique()"
   ]
  },
  {
   "cell_type": "code",
   "execution_count": 5,
   "metadata": {},
   "outputs": [],
   "source": [
    "regions = covid_df['Регион'].unique()"
   ]
  },
  {
   "cell_type": "code",
   "execution_count": 6,
   "metadata": {},
   "outputs": [
    {
     "data": {
      "text/plain": [
       "(85,)"
      ]
     },
     "execution_count": 6,
     "metadata": {},
     "output_type": "execute_result"
    }
   ],
   "source": [
    "covid_df['Регион'].unique().shape"
   ]
  },
  {
   "cell_type": "markdown",
   "metadata": {},
   "source": [
    "This is a valid number"
   ]
  },
  {
   "cell_type": "markdown",
   "metadata": {},
   "source": [
    "### We will make several separate files, where each will contain data for only one day, but for all regions at once"
   ]
  },
  {
   "cell_type": "code",
   "execution_count": 7,
   "metadata": {},
   "outputs": [],
   "source": [
    "unique_dates = covid_df['Дата'].unique()"
   ]
  },
  {
   "cell_type": "code",
   "execution_count": 8,
   "metadata": {},
   "outputs": [
    {
     "data": {
      "application/vnd.jupyter.widget-view+json": {
       "model_id": "abbb64dbdd6e4533a94a46b0e022920e",
       "version_major": 2,
       "version_minor": 0
      },
      "text/plain": [
       "HBox(children=(IntProgress(value=0, max=91), HTML(value='')))"
      ]
     },
     "metadata": {},
     "output_type": "display_data"
    },
    {
     "name": "stdout",
     "output_type": "stream",
     "text": [
      "\n"
     ]
    }
   ],
   "source": [
    "for date_index in tqdm(range(len(unique_dates))):\n",
    "    each_date = unique_dates[date_index]\n",
    "    this_date_df = covid_df[covid_df['Дата'] == each_date]\n",
    "    \n",
    "    # infections\n",
    "    this_date_df_infections = this_date_df[['Регион', 'Заражений за день']]\n",
    "    this_date_df_infections = this_date_df_infections.rename(columns={'Регион': 'region', 'Заражений за день': 'infections'})\n",
    "    this_date_df_infections = this_date_df_infections.set_index('region')\n",
    "    \n",
    "    # recoveries\n",
    "    this_date_df_recoveries = this_date_df[['Регион', 'Выздоровлений за день']]\n",
    "    this_date_df_recoveries = this_date_df_recoveries.rename(columns={'Регион': 'region', 'Выздоровлений за день': 'recoveries'})\n",
    "    this_date_df_recoveries = this_date_df_recoveries.set_index('region')\n",
    "    \n",
    "    # deaths\n",
    "    this_date_df_deaths = this_date_df[['Регион', 'Смертей за день']]\n",
    "    this_date_df_deaths = this_date_df_deaths.rename(columns={'Регион': 'region', 'Смертей за день': 'deaths'})\n",
    "    this_date_df_deaths = this_date_df_deaths.set_index('region')\n",
    "    \n",
    "    # new_df\n",
    "    new_this_date_df = pd.DataFrame(columns=['region', 'infections', 'recoveries', 'deaths'])\n",
    "    new_this_date_df['region'] = regions\n",
    "    new_this_date_df = new_this_date_df.set_index('region')\n",
    "    \n",
    "    # update\n",
    "    new_this_date_df.update(this_date_df_infections)\n",
    "    new_this_date_df.update(this_date_df_recoveries)\n",
    "    new_this_date_df.update(this_date_df_deaths)\n",
    "    \n",
    "    # reset index\n",
    "    new_this_date_df.reset_index(inplace=True)\n",
    "    \n",
    "    # fill na with zeros\n",
    "    new_this_date_df = new_this_date_df.fillna(0)\n",
    "    \n",
    "    new_this_date_df.to_csv('../data/' + each_date + '.csv', sep=';', index=False)"
   ]
  },
  {
   "cell_type": "code",
   "execution_count": null,
   "metadata": {},
   "outputs": [],
   "source": []
  }
 ],
 "metadata": {
  "kernelspec": {
   "display_name": "Python 3",
   "language": "python",
   "name": "python3"
  },
  "language_info": {
   "codemirror_mode": {
    "name": "ipython",
    "version": 3
   },
   "file_extension": ".py",
   "mimetype": "text/x-python",
   "name": "python",
   "nbconvert_exporter": "python",
   "pygments_lexer": "ipython3",
   "version": "3.7.3"
  }
 },
 "nbformat": 4,
 "nbformat_minor": 2
}
